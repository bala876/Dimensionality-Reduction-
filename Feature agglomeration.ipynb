{
 "cells": [
  {
   "cell_type": "code",
   "execution_count": null,
   "metadata": {},
   "outputs": [],
   "source": [
    "Feature agglomeration"
   ]
  },
  {
   "cell_type": "code",
   "execution_count": null,
   "metadata": {},
   "outputs": [],
   "source": [
    "Performing  Feature Agglomeration with parameters n_clusters=4(Reducing the dimentionality of the input)\n",
    "Thus saving the storage space."
   ]
  },
  {
   "cell_type": "code",
   "execution_count": null,
   "metadata": {},
   "outputs": [],
   "source": [
    "import pandas as pd \n",
    "import numpy as np\n",
    "\n",
    "dataset = pd.read_csv(\"dp2.csv\")\n",
    "feature=['X1','X2','X3','X4','X5','X6','X7','X8','X9','X10','X11','X12','X13','X14','X15','X16','X17']\n",
    "X=dataset[feature]\n",
    "y=dataset.Y\n"
   ]
  },
  {
   "cell_type": "code",
   "execution_count": null,
   "metadata": {},
   "outputs": [],
   "source": [
    "#feature agglomeration\n",
    "import numpy as np\n",
    "from sklearn import datasets, cluster\n",
    "agglo = cluster.FeatureAgglomeration(n_clusters=4)\n",
    "agglo.fit(X)\n",
    "X_reduced = agglo.transform(X)\n",
    "X_reduced.shape\n",
    "print(\"The X values\")\n",
    "print(X)\n",
    "print(\"reduced X\\n\\n\")\n",
    "print(X_reduced)\n"
   ]
  },
  {
   "cell_type": "code",
   "execution_count": null,
   "metadata": {},
   "outputs": [],
   "source": [
    "Implementing Algorithms"
   ]
  },
  {
   "cell_type": "code",
   "execution_count": null,
   "metadata": {},
   "outputs": [],
   "source": [
    "#K-means\n",
    "from sklearn.cluster import KMeans                            # Import Kmeans Algorithm \n",
    "model = KMeans(n_clusters=2, random_state=0).fit(X_reduced)     # Fit the X_reduced using Kmeans Algorithm\n",
    "model.labels_\n",
    "Y_pred=model.predict(X_reduced)               \n",
    "print(Y_pred) "
   ]
  }
 ],
 "metadata": {
  "kernelspec": {
   "display_name": "Python 3",
   "language": "python",
   "name": "python3"
  },
  "language_info": {
   "codemirror_mode": {
    "name": "ipython",
    "version": 3
   },
   "file_extension": ".py",
   "mimetype": "text/x-python",
   "name": "python",
   "nbconvert_exporter": "python",
   "pygments_lexer": "ipython3",
   "version": "3.7.6"
  }
 },
 "nbformat": 4,
 "nbformat_minor": 4
}
